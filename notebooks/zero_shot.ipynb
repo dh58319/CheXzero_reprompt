{
 "cells": [
  {
   "cell_type": "markdown",
   "metadata": {},
   "source": [
    "# Sample Notebook for Zero-Shot Inference with CheXzero\n",
    "This notebook walks through how to use CheXzero to perform zero-shot inference on a chest x-ray image dataset."
   ]
  },
  {
   "cell_type": "code",
   "execution_count": 1,
   "metadata": {
    "ExecuteTime": {
     "end_time": "2023-09-26T01:18:41.308299Z",
     "start_time": "2023-09-26T01:18:41.181399Z"
    }
   },
   "outputs": [
    {
     "name": "stdout",
     "output_type": "stream",
     "text": [
      "/home/dk58319/private/CheXzero/notebooks\r\n"
     ]
    }
   ],
   "source": [
    "!pwd"
   ]
  },
  {
   "cell_type": "markdown",
   "metadata": {},
   "source": [
    "## Import Libraries"
   ]
  },
  {
   "cell_type": "code",
   "execution_count": 2,
   "metadata": {
    "ExecuteTime": {
     "end_time": "2023-09-26T01:18:44.436460Z",
     "start_time": "2023-09-26T01:18:41.320560Z"
    }
   },
   "outputs": [],
   "source": [
    "import os\n",
    "import numpy as np\n",
    "import pandas as pd\n",
    "from pathlib import Path\n",
    "from typing import List, Tuple, Optional\n",
    "\n",
    "import sys\n",
    "sys.path.append('../')\n",
    "\n",
    "import os\n",
    "os.environ[\"CUDA_DEVICE_ORDER\"]=\"PCI_BUS_ID\"\n",
    "os.environ[\"CUDA_VISIBLE_DEVICES\"] = \"8\"\n",
    "import random\n",
    "from eval import evaluate, bootstrap\n",
    "from zero_shot import make, make_true_labels, run_softmax_eval\n",
    "\n",
    "%load_ext autoreload\n",
    "%autoreload 2"
   ]
  },
  {
   "cell_type": "markdown",
   "metadata": {},
   "source": [
    "## Directories and Constants"
   ]
  },
  {
   "cell_type": "code",
   "execution_count": 3,
   "outputs": [],
   "source": [
    "def get_pair_template():\n",
    "    pos = \"{}\"\n",
    "    \n",
    "    # ratio = random.random()\n",
    "    neg = random.choice([\"not {}\",\"no evidence of {}\", \"no signs of {}\", \"no {}\"])    \n",
    "\n",
    "    return (pos, neg)"
   ],
   "metadata": {
    "collapsed": false,
    "ExecuteTime": {
     "end_time": "2023-09-26T01:18:44.437228Z",
     "start_time": "2023-09-26T01:18:44.435206Z"
    }
   }
  },
  {
   "cell_type": "code",
   "execution_count": 4,
   "outputs": [
    {
     "name": "stdout",
     "output_type": "stream",
     "text": [
      "('{}', 'no {}')\n"
     ]
    }
   ],
   "source": [
    "test_template = get_pair_template()\n",
    "print(test_template)"
   ],
   "metadata": {
    "collapsed": false,
    "ExecuteTime": {
     "end_time": "2023-09-26T01:18:44.456232Z",
     "start_time": "2023-09-26T01:18:44.436278Z"
    }
   }
  },
  {
   "cell_type": "code",
   "execution_count": 5,
   "metadata": {
    "ExecuteTime": {
     "end_time": "2023-09-26T01:18:44.499333Z",
     "start_time": "2023-09-26T01:18:44.462849Z"
    }
   },
   "outputs": [
    {
     "name": "stdout",
     "output_type": "stream",
     "text": [
      "['../checkpoints/chexzero_weights/best_64_5e-05_original_16000_0.858.pt', '../checkpoints/chexzero_weights/best_64_0.0001_original_16000_0.861.pt', '../checkpoints/chexzero_weights/best_128_5e-05_original_22000_0.855.pt', '../checkpoints/chexzero_weights/best_128_0.0002_original_8000_0.857.pt', '../checkpoints/chexzero_weights/best_64_0.0002_original_23000_0.854.pt', '../checkpoints/chexzero_weights/best_64_0.0001_original_17000_0.863.pt', '../checkpoints/chexzero_weights/best_64_5e-05_original_22000_0.864.pt', '../checkpoints/chexzero_weights/best_128_0.0002_original_15000_0.859.pt', '../checkpoints/chexzero_weights/best_64_0.0001_original_35000_0.864.pt', '../checkpoints/chexzero_weights/best_64_5e-05_original_18000_0.862.pt']\n"
     ]
    }
   ],
   "source": [
    "## Define Zero Shot Labels and Templates\n",
    "\n",
    "# ----- DIRECTORIES ------ #\n",
    "cxr_filepath: str = '../data/test/cxr_test.h5' # filepath of chest x-ray images (.h5)\n",
    "cxr_true_labels_path: Optional[str] = '../data/cheXpert/chexlocalize/CheXpert/test_labels.csv' # (optional for evaluation) if labels are provided, provide path\n",
    "model_dir: str = '../checkpoints/chexzero_weights' # where pretrained models are saved (.pt) \n",
    "predictions_dir: Path = Path('../predictions') # where to save predictions\n",
    "cache_dir: str = predictions_dir / \"cached\" # where to cache ensembled predictions\n",
    "\n",
    "\n",
    "context_length: int = 77\n",
    "\n",
    "# ------- LABELS ------  #\n",
    "# Define labels to query each image | will return a prediction for each label\n",
    "cxr_labels: List[str] = ['Atelectasis','Cardiomegaly', \n",
    "                                      'Consolidation', 'Edema', 'Enlarged Cardiomediastinum', 'Fracture', 'Lung Lesion',\n",
    "                                      'Lung Opacity', 'No Finding','Pleural Effusion', 'Pleural Other', 'Pneumonia', \n",
    "                                      'Pneumothorax', 'Support Devices']\n",
    "\n",
    "# ---- TEMPLATES ----- # \n",
    "# Define set of templates | see Figure 1 for more details                        \n",
    "# cxr_pair_template: Tuple[str] = (\"{}\", \"no {}\")\n",
    "cxr_pair_template: Tuple[str] = get_pair_template()\n",
    "\n",
    "\n",
    "# ----- MODEL PATHS ------ #\n",
    "# If using ensemble, collect all model paths\n",
    "model_paths = []\n",
    "for subdir, dirs, files in os.walk(model_dir):\n",
    "    for file in files:\n",
    "        full_dir = os.path.join(subdir, file)\n",
    "        model_paths.append(full_dir)\n",
    "        \n",
    "print(model_paths)"
   ]
  },
  {
   "cell_type": "code",
   "execution_count": 6,
   "outputs": [],
   "source": [
    "CHEXPERT_TEST_CSV_PATH = Path(\"/home/dk58319/shared/hdd_ext/nvme1/public/medical/classification/chest/cheXpert/chexlocalize/CheXpert/test_labels.csv\")\n",
    "H5_PATH = Path(\"/home/dk58319/private/CheXzero/data/test/cxr_test.h5\")\n",
    "cxr_labels: List[str] = ['Atelectasis','Cardiomegaly',\n",
    "                                      'Consolidation', 'Edema', 'Enlarged Cardiomediastinum', 'Fracture', 'Lung Lesion',\n",
    "                                      'Lung Opacity', 'No Finding','Pleural Effusion', 'Pleural Other', 'Pneumonia',\n",
    "                                      'Pneumothorax', 'Support Devices']\n",
    "\n",
    "def get_labels_from_csv(csv_path: Path)->List[str]:\n",
    "    path = []\n",
    "    labels = []\n",
    "    df = pd.read_csv(csv_path)\n",
    "    label_columns = df.columns[1:]\n",
    "    for i in range(len(df)):\n",
    "        path.append(df['Path'][i])\n",
    "        label = []\n",
    "        for column in label_columns:\n",
    "            if df[column][i] == 1:\n",
    "                label.append(column)\n",
    "        labels.append(label)\n",
    "    return path, labels\n",
    "\n",
    "def get_labels_from_hdf5(hdf5_path: Path)->List[str]:\n",
    "    with h5py.File(hdf5_path, 'r') as f:\n",
    "        labels = f['labels'][:]\n",
    "    return labels\n",
    "\n",
    "def make_positive_negative_prompt(labels:List) -> Tuple[List, List]:\n",
    "    \"\"\"\n",
    "    make positive and negative prompts for each label\n",
    "    \"\"\"\n",
    "    pos_query = [\n",
    "        'Findings consistent with {}',\n",
    "        'Findings suggesting {}',\n",
    "        'This opacity can represent {}',\n",
    "        'Findings are most compatible with {}',\n",
    "    ]\n",
    "    neg_query = [\n",
    "        'There is no {}',\n",
    "        'No evidence of {}',\n",
    "        'No evidence of acute {}',\n",
    "        'No signs of {}',\n",
    "    ]\n",
    "    for label in labels:\n",
    "        for i in label:\n",
    "            for j in range(4):\n",
    "                pos_query.append(pos_query[j].format(i))\n",
    "                neg_query.append(neg_query[j].format(i))\n",
    "\n",
    "\n",
    "\n",
    "    return pos_query, neg_query\n"
   ],
   "metadata": {
    "collapsed": false,
    "ExecuteTime": {
     "end_time": "2023-09-26T01:18:44.549543Z",
     "start_time": "2023-09-26T01:18:44.495799Z"
    }
   }
  },
  {
   "cell_type": "code",
   "execution_count": 7,
   "metadata": {
    "ExecuteTime": {
     "end_time": "2023-09-26T01:18:44.595106Z",
     "start_time": "2023-09-26T01:18:44.549486Z"
    }
   },
   "outputs": [
    {
     "name": "stdout",
     "output_type": "stream",
     "text": [
      "../checkpoints/chexzero_weights/best_64_5e-05_original_22000_0.864.pt\n"
     ]
    }
   ],
   "source": [
    "print(model_paths[6])"
   ]
  },
  {
   "cell_type": "markdown",
   "metadata": {
    "ExecuteTime": {
     "end_time": "2023-09-25T03:15:30.494299Z",
     "start_time": "2023-09-25T03:15:30.347292Z"
    }
   },
   "source": [
    "## Run Inference"
   ]
  },
  {
   "cell_type": "code",
   "execution_count": 8,
   "metadata": {
    "ExecuteTime": {
     "end_time": "2023-09-26T01:18:44.637200Z",
     "start_time": "2023-09-26T01:18:44.594950Z"
    }
   },
   "outputs": [],
   "source": [
    "## Run the model on the data set using ensembled models\n",
    "def ensemble_models(\n",
    "    model_paths: List[str], \n",
    "    cxr_filepath: str, \n",
    "    cxr_labels: List[str], \n",
    "    cxr_pair_template: Tuple[str], \n",
    "    cache_dir: str = None, \n",
    "    save_name: str = None,\n",
    ") -> Tuple[List[np.ndarray], np.ndarray]: \n",
    "    \"\"\"\n",
    "    Given a list of `model_paths`, ensemble model and return\n",
    "    predictions. Caches predictions at `cache_dir` if location provided.\n",
    "\n",
    "    Returns a list of each model's predictions and the averaged\n",
    "    set of predictions.\n",
    "    \"\"\"\n",
    "\n",
    "    predictions = []\n",
    "    model_paths = sorted(model_paths) # ensure consistency of \n",
    "    for path in model_paths: # for each model\n",
    "        model_name = Path(path).stem\n",
    "\n",
    "        # load in model and `torch.DataLoader`\n",
    "        model, loader = make(\n",
    "            model_path=path, \n",
    "            cxr_filepath=cxr_filepath, \n",
    "        ) \n",
    "\n",
    "        \n",
    "        # path to the cached prediction\n",
    "        if cache_dir is not None:\n",
    "            if save_name is not None: \n",
    "                cache_path = Path(cache_dir) / f\"{save_name}_{model_name}.npy\"\n",
    "            else: \n",
    "                cache_path = Path(cache_dir) / f\"{model_name}.npy\"\n",
    "\n",
    "        # if prediction already cached, don't recompute prediction\n",
    "        if cache_dir is not None and os.path.exists(cache_path): \n",
    "            print(\"Loading cached prediction for {}\".format(model_name))\n",
    "            y_pred = np.load(cache_path)\n",
    "        else: # cached prediction not found, compute preds\n",
    "            print(\"Inferring model {}\".format(path))\n",
    "            y_pred = run_softmax_eval(model, loader, cxr_labels, cxr_pair_template)\n",
    "            # # y_pred = run_softmax_eval2(model, loader, cxr_labels, cxr_pair_template)\n",
    "            # y_pred = run_softmax_eval3(model,loader, cxr_labels, cxr_pair_template)\n",
    "            if cache_dir is not None: \n",
    "                Path(cache_dir).mkdir(exist_ok=True, parents=True)\n",
    "                np.save(file=cache_path, arr=y_pred)\n",
    "        predictions.append(y_pred)\n",
    "    \n",
    "    # compute average predictions\n",
    "    y_pred_avg = np.mean(predictions, axis=0)\n",
    "    \n",
    "    return predictions, y_pred_avg"
   ]
  },
  {
   "cell_type": "code",
   "execution_count": 9,
   "metadata": {
    "ExecuteTime": {
     "end_time": "2023-09-26T01:18:44.806014Z",
     "start_time": "2023-09-26T01:18:44.637122Z"
    }
   },
   "outputs": [
    {
     "name": "stdout",
     "output_type": "stream",
     "text": [
      "zero_shot.ipynb\r\n"
     ]
    }
   ],
   "source": [
    "!ls"
   ]
  },
  {
   "cell_type": "code",
   "execution_count": 10,
   "metadata": {
    "ExecuteTime": {
     "end_time": "2023-09-26T01:18:48.710872Z",
     "start_time": "2023-09-26T01:18:44.812353Z"
    }
   },
   "outputs": [
    {
     "name": "stderr",
     "output_type": "stream",
     "text": [
      "/home/dk58319/.local/lib/python3.8/site-packages/torchvision/transforms/transforms.py:329: UserWarning: Argument 'interpolation' of type int is deprecated since 0.13 and will be removed in 0.15. Please use InterpolationMode enum.\n",
      "  warnings.warn(\n"
     ]
    },
    {
     "name": "stdout",
     "output_type": "stream",
     "text": [
      "Loading cached prediction for best_64_5e-05_original_22000_0.864\n"
     ]
    }
   ],
   "source": [
    "predictions, y_pred_avg = ensemble_models(\n",
    "    model_paths=[model_paths[6]], \n",
    "    cxr_filepath=cxr_filepath, \n",
    "    cxr_labels=cxr_labels, \n",
    "    cxr_pair_template=cxr_pair_template, \n",
    "    cache_dir=cache_dir,\n",
    ")"
   ]
  },
  {
   "cell_type": "code",
   "execution_count": 11,
   "metadata": {
    "ExecuteTime": {
     "end_time": "2023-09-26T01:18:48.744631Z",
     "start_time": "2023-09-26T01:18:48.709701Z"
    }
   },
   "outputs": [],
   "source": [
    "# save averaged preds\n",
    "pred_name = \"chexpert_preds.npy\" # add name of preds\n",
    "predictions_dir = predictions_dir / pred_name\n",
    "np.save(file=predictions_dir, arr=y_pred_avg)"
   ]
  },
  {
   "cell_type": "markdown",
   "metadata": {
    "ExecuteTime": {
     "start_time": "2023-09-25T03:11:53.057920Z"
    }
   },
   "source": [
    "## (Optional) Evaluate Results\n",
    "If ground truth labels are available, compute AUC on each pathology to evaluate the performance of the zero-shot model. "
   ]
  },
  {
   "cell_type": "code",
   "execution_count": 12,
   "metadata": {
    "ExecuteTime": {
     "end_time": "2023-09-26T01:19:25.905157Z",
     "start_time": "2023-09-26T01:18:48.747382Z"
    }
   },
   "outputs": [
    {
     "data": {
      "text/plain": "  0%|          | 0/1000 [00:00<?, ?it/s]",
      "application/vnd.jupyter.widget-view+json": {
       "version_major": 2,
       "version_minor": 0,
       "model_id": "2c1b405c2ccb4a3196e4166906886061"
      }
     },
     "metadata": {},
     "output_type": "display_data"
    }
   ],
   "source": [
    "# make test_true\n",
    "test_pred = y_pred_avg\n",
    "\n",
    "test_true = make_true_labels(cxr_true_labels_path=cxr_true_labels_path, cxr_labels=cxr_labels)\n",
    "# print(test_true)\n",
    "# evaluate model\n",
    "cxr_results = evaluate(test_pred, test_true, cxr_labels)\n",
    "\n",
    "# boostrap evaluations for 95% confidence intervals\n",
    "bootstrap_results = bootstrap(test_pred, test_true, cxr_labels)"
   ]
  },
  {
   "cell_type": "code",
   "execution_count": 13,
   "metadata": {
    "ExecuteTime": {
     "end_time": "2023-09-26T01:19:25.993352Z",
     "start_time": "2023-09-26T01:19:25.903848Z"
    }
   },
   "outputs": [
    {
     "data": {
      "text/plain": "       Atelectasis_auc  Cardiomegaly_auc  Consolidation_auc  Edema_auc  \\\nmean            0.7991            0.8953             0.8865     0.9028   \nlower           0.7577            0.8655             0.8224     0.8702   \nupper           0.8364            0.9224             0.9389     0.9322   \n\n       Enlarged Cardiomediastinum_auc  Fracture_auc  Lung Lesion_auc  \\\nmean                           0.8556        0.5413           0.7108   \nlower                          0.8250        0.2368           0.5571   \nupper                          0.8870        0.8236           0.8552   \n\n       Lung Opacity_auc  No Finding_auc  Pleural Effusion_auc  \\\nmean             0.9148          0.0798                0.9279   \nlower            0.8868          0.0559                0.9008   \nupper            0.9377          0.1082                0.9508   \n\n       Pleural Other_auc  Pneumonia_auc  Pneumothorax_auc  Support Devices_auc  \nmean              0.5672         0.7794            0.6201               0.8345  \nlower             0.4558         0.5749            0.4145               0.7992  \nupper             0.7384         0.9458            0.8343               0.8672  ",
      "text/html": "<div>\n<style scoped>\n    .dataframe tbody tr th:only-of-type {\n        vertical-align: middle;\n    }\n\n    .dataframe tbody tr th {\n        vertical-align: top;\n    }\n\n    .dataframe thead th {\n        text-align: right;\n    }\n</style>\n<table border=\"1\" class=\"dataframe\">\n  <thead>\n    <tr style=\"text-align: right;\">\n      <th></th>\n      <th>Atelectasis_auc</th>\n      <th>Cardiomegaly_auc</th>\n      <th>Consolidation_auc</th>\n      <th>Edema_auc</th>\n      <th>Enlarged Cardiomediastinum_auc</th>\n      <th>Fracture_auc</th>\n      <th>Lung Lesion_auc</th>\n      <th>Lung Opacity_auc</th>\n      <th>No Finding_auc</th>\n      <th>Pleural Effusion_auc</th>\n      <th>Pleural Other_auc</th>\n      <th>Pneumonia_auc</th>\n      <th>Pneumothorax_auc</th>\n      <th>Support Devices_auc</th>\n    </tr>\n  </thead>\n  <tbody>\n    <tr>\n      <th>mean</th>\n      <td>0.7991</td>\n      <td>0.8953</td>\n      <td>0.8865</td>\n      <td>0.9028</td>\n      <td>0.8556</td>\n      <td>0.5413</td>\n      <td>0.7108</td>\n      <td>0.9148</td>\n      <td>0.0798</td>\n      <td>0.9279</td>\n      <td>0.5672</td>\n      <td>0.7794</td>\n      <td>0.6201</td>\n      <td>0.8345</td>\n    </tr>\n    <tr>\n      <th>lower</th>\n      <td>0.7577</td>\n      <td>0.8655</td>\n      <td>0.8224</td>\n      <td>0.8702</td>\n      <td>0.8250</td>\n      <td>0.2368</td>\n      <td>0.5571</td>\n      <td>0.8868</td>\n      <td>0.0559</td>\n      <td>0.9008</td>\n      <td>0.4558</td>\n      <td>0.5749</td>\n      <td>0.4145</td>\n      <td>0.7992</td>\n    </tr>\n    <tr>\n      <th>upper</th>\n      <td>0.8364</td>\n      <td>0.9224</td>\n      <td>0.9389</td>\n      <td>0.9322</td>\n      <td>0.8870</td>\n      <td>0.8236</td>\n      <td>0.8552</td>\n      <td>0.9377</td>\n      <td>0.1082</td>\n      <td>0.9508</td>\n      <td>0.7384</td>\n      <td>0.9458</td>\n      <td>0.8343</td>\n      <td>0.8672</td>\n    </tr>\n  </tbody>\n</table>\n</div>"
     },
     "execution_count": 13,
     "metadata": {},
     "output_type": "execute_result"
    }
   ],
   "source": [
    "# display AUC with confidence intervals\n",
    "bootstrap_results[1]"
   ]
  },
  {
   "cell_type": "code",
   "execution_count": 14,
   "metadata": {
    "ExecuteTime": {
     "end_time": "2023-09-26T01:19:26.002475Z",
     "start_time": "2023-09-26T01:19:25.945107Z"
    }
   },
   "outputs": [
    {
     "name": "stdout",
     "output_type": "stream",
     "text": [
      "500\n",
      "(500, 14)\n",
      "[0. 1. 0. 0. 1. 0. 0. 1. 0. 0. 0. 0. 0. 1.]\n"
     ]
    }
   ],
   "source": [
    "print(len(test_true))\n",
    "print(test_true.shape)\n",
    "print(test_true[0])"
   ]
  },
  {
   "cell_type": "code",
   "execution_count": 15,
   "metadata": {
    "ExecuteTime": {
     "end_time": "2023-09-26T01:19:26.205562Z",
     "start_time": "2023-09-26T01:19:25.980522Z"
    }
   },
   "outputs": [
    {
     "data": {
      "text/plain": "       Atelectasis_auc  Cardiomegaly_auc  Consolidation_auc  Edema_auc  \\\nmean            0.7991            0.8953             0.8865     0.9028   \nlower           0.7577            0.8655             0.8224     0.8702   \nupper           0.8364            0.9224             0.9389     0.9322   \n\n       Enlarged Cardiomediastinum_auc  Fracture_auc  Lung Lesion_auc  \\\nmean                           0.8556        0.5413           0.7108   \nlower                          0.8250        0.2368           0.5571   \nupper                          0.8870        0.8236           0.8552   \n\n       Lung Opacity_auc  No Finding_auc  Pleural Effusion_auc  \\\nmean             0.9148          0.0798                0.9279   \nlower            0.8868          0.0559                0.9008   \nupper            0.9377          0.1082                0.9508   \n\n       Pleural Other_auc  Pneumonia_auc  Pneumothorax_auc  Support Devices_auc  \nmean              0.5672         0.7794            0.6201               0.8345  \nlower             0.4558         0.5749            0.4145               0.7992  \nupper             0.7384         0.9458            0.8343               0.8672  ",
      "text/html": "<div>\n<style scoped>\n    .dataframe tbody tr th:only-of-type {\n        vertical-align: middle;\n    }\n\n    .dataframe tbody tr th {\n        vertical-align: top;\n    }\n\n    .dataframe thead th {\n        text-align: right;\n    }\n</style>\n<table border=\"1\" class=\"dataframe\">\n  <thead>\n    <tr style=\"text-align: right;\">\n      <th></th>\n      <th>Atelectasis_auc</th>\n      <th>Cardiomegaly_auc</th>\n      <th>Consolidation_auc</th>\n      <th>Edema_auc</th>\n      <th>Enlarged Cardiomediastinum_auc</th>\n      <th>Fracture_auc</th>\n      <th>Lung Lesion_auc</th>\n      <th>Lung Opacity_auc</th>\n      <th>No Finding_auc</th>\n      <th>Pleural Effusion_auc</th>\n      <th>Pleural Other_auc</th>\n      <th>Pneumonia_auc</th>\n      <th>Pneumothorax_auc</th>\n      <th>Support Devices_auc</th>\n    </tr>\n  </thead>\n  <tbody>\n    <tr>\n      <th>mean</th>\n      <td>0.7991</td>\n      <td>0.8953</td>\n      <td>0.8865</td>\n      <td>0.9028</td>\n      <td>0.8556</td>\n      <td>0.5413</td>\n      <td>0.7108</td>\n      <td>0.9148</td>\n      <td>0.0798</td>\n      <td>0.9279</td>\n      <td>0.5672</td>\n      <td>0.7794</td>\n      <td>0.6201</td>\n      <td>0.8345</td>\n    </tr>\n    <tr>\n      <th>lower</th>\n      <td>0.7577</td>\n      <td>0.8655</td>\n      <td>0.8224</td>\n      <td>0.8702</td>\n      <td>0.8250</td>\n      <td>0.2368</td>\n      <td>0.5571</td>\n      <td>0.8868</td>\n      <td>0.0559</td>\n      <td>0.9008</td>\n      <td>0.4558</td>\n      <td>0.5749</td>\n      <td>0.4145</td>\n      <td>0.7992</td>\n    </tr>\n    <tr>\n      <th>upper</th>\n      <td>0.8364</td>\n      <td>0.9224</td>\n      <td>0.9389</td>\n      <td>0.9322</td>\n      <td>0.8870</td>\n      <td>0.8236</td>\n      <td>0.8552</td>\n      <td>0.9377</td>\n      <td>0.1082</td>\n      <td>0.9508</td>\n      <td>0.7384</td>\n      <td>0.9458</td>\n      <td>0.8343</td>\n      <td>0.8672</td>\n    </tr>\n  </tbody>\n</table>\n</div>"
     },
     "execution_count": 15,
     "metadata": {},
     "output_type": "execute_result"
    }
   ],
   "source": [
    "bootstrap_results[1]"
   ]
  },
  {
   "cell_type": "code",
   "execution_count": 16,
   "metadata": {
    "ExecuteTime": {
     "end_time": "2023-09-26T01:19:26.240569Z",
     "start_time": "2023-09-26T01:19:26.024252Z"
    }
   },
   "outputs": [
    {
     "name": "stdout",
     "output_type": "stream",
     "text": [
      "<class 'pandas.core.frame.DataFrame'>\n",
      "Index(['Atelectasis_auc', 'Cardiomegaly_auc', 'Consolidation_auc', 'Edema_auc',\n",
      "       'Enlarged Cardiomediastinum_auc', 'Fracture_auc', 'Lung Lesion_auc',\n",
      "       'Lung Opacity_auc', 'No Finding_auc', 'Pleural Effusion_auc',\n",
      "       'Pleural Other_auc', 'Pneumonia_auc', 'Pneumothorax_auc',\n",
      "       'Support Devices_auc'],\n",
      "      dtype='object')\n"
     ]
    },
    {
     "data": {
      "text/plain": "count    1000.000000\nmean        0.882335\nstd         0.018791\nmin         0.810422\n25%         0.870346\n50%         0.883396\n75%         0.895206\nmax         0.939561\ndtype: float64"
     },
     "execution_count": 16,
     "metadata": {},
     "output_type": "execute_result"
    }
   ],
   "source": [
    "df = bootstrap_results[0]\n",
    "\n",
    "print(type(df))\n",
    "\n",
    "print(df.columns)\n",
    "\n",
    "df = df[['Atelectasis_auc','Cardiomegaly_auc','Consolidation_auc','Edema_auc','Pleural Effusion_auc']]\n",
    "\n",
    "df.describe().T.mean()"
   ]
  },
  {
   "cell_type": "code",
   "execution_count": 16,
   "outputs": [],
   "source": [],
   "metadata": {
    "collapsed": false,
    "ExecuteTime": {
     "end_time": "2023-09-26T01:19:26.240960Z",
     "start_time": "2023-09-26T01:19:26.081894Z"
    }
   }
  }
 ],
 "metadata": {
  "interpreter": {
   "hash": "b0fa6594d8f4cbf19f97940f81e996739fb7646882a419484c72d19e05852a7e"
  },
  "kernelspec": {
   "display_name": "Python 3 (ipykernel)",
   "language": "python",
   "name": "python3"
  }
 },
 "nbformat": 4,
 "nbformat_minor": 2
}
